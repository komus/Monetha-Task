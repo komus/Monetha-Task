{
  "nbformat": 4,
  "nbformat_minor": 0,
  "metadata": {
    "kernelspec": {
      "display_name": "Python 3",
      "language": "python",
      "name": "python3"
    },
    "language_info": {
      "codemirror_mode": {
        "name": "ipython",
        "version": 3
      },
      "file_extension": ".py",
      "mimetype": "text/x-python",
      "name": "python",
      "nbconvert_exporter": "python",
      "pygments_lexer": "ipython3",
      "version": "3.7.6"
    },
    "colab": {
      "name": "125.ipynb",
      "provenance": [],
      "toc_visible": true
    }
  },
  "cells": [
    {
      "cell_type": "markdown",
      "metadata": {
        "id": "uQwrkUzvLQwb"
      },
      "source": [
        "# Module 1: Data Science Fundamentals"
      ]
    },
    {
      "cell_type": "markdown",
      "metadata": {
        "id": "7_VVvj9ELQwh"
      },
      "source": [
        "## Sprint 2: Statistical Tests and Experiments"
      ]
    },
    {
      "cell_type": "markdown",
      "metadata": {
        "id": "9-EogpTvLQwi"
      },
      "source": [
        "## Let's analyse Udacity A/B test!"
      ]
    },
    {
      "cell_type": "markdown",
      "metadata": {
        "id": "LayRM7hDLQwi"
      },
      "source": [
        "<div><img style=\"height: 350px;\" src=\"https://upload.wikimedia.org/wikipedia/commons/3/3b/Udacity_logo.png\" /></div>"
      ]
    },
    {
      "cell_type": "markdown",
      "metadata": {
        "id": "3uqZDwVoLQwi"
      },
      "source": [
        "## Background"
      ]
    },
    {
      "cell_type": "markdown",
      "metadata": {
        "id": "9V63gZ4FLQwj"
      },
      "source": [
        "For the last day of this sprint, we are analyzing once run, online Udacity A/B test results! The dataset is part of the Udacity Google's A/B testing course, which we have watched a couple of lessons from in Subproject 2 of this sprint."
      ]
    },
    {
      "cell_type": "markdown",
      "metadata": {
        "id": "9mMsfcNbLQwj"
      },
      "source": [
        "Data is available at https://docs.google.com/spreadsheets/d/1Mu5u9GrybDdska-ljPXyBjTpdZIUev_6i7t4LRDfXM8/edit#gid=0"
      ]
    },
    {
      "cell_type": "markdown",
      "metadata": {
        "id": "c8eBvNp0LQwj"
      },
      "source": [
        "---------"
      ]
    },
    {
      "cell_type": "markdown",
      "metadata": {
        "id": "pmu56PnGLQwj"
      },
      "source": [
        "## How to start?"
      ]
    },
    {
      "cell_type": "code",
      "metadata": {
        "id": "vWyyCOLFPMNq"
      },
      "source": [
        "import pandas as pd\n",
        "import numpy as np\n",
        "import matplotlib.pyplot as plt\n",
        "import math\n",
        "from scipy.integrate import quad\n",
        "import scipy.stats as st\n",
        "from scipy import mean\n",
        "import itertools\n"
      ],
      "execution_count": 29,
      "outputs": []
    },
    {
      "cell_type": "code",
      "metadata": {
        "id": "1iOuhOH0rKDq"
      },
      "source": [
        "def GetPValue(sdv):\n",
        "  \"\"\"P value is equal to 1 - Standard Normal Value of Z score\"\"\"\n",
        "  return 1-sdv\n",
        "\n",
        "def StatisticsSignificance(list1, list2, alpha):\n",
        "  \"\"\"Gets 2 list and returns:\n",
        "      1. Ratio of sample variance\n",
        "      2. Pooled Estimate of SP\n",
        "      3. Standard Error\n",
        "      4. MarginOfError\n",
        "      5. Mean difference\n",
        "      6. Lower CI\n",
        "      7. Upper CI\n",
        "      8. ZScore\n",
        "      9. Pvalue for Ztest \"\"\"\n",
        "  n1 = list1.count()\n",
        "  n2 = list2.count()\n",
        "  x1 = list1.mean()\n",
        "  x2 = list2.mean()\n",
        "  s1 = list1.std()\n",
        "  s2 = list2.std()\n",
        "  meandiff = x1 - x2\n",
        "  RS_p = math.pow(s1,2)/ math.pow(s2,2)\n",
        "  SP_p = math.sqrt((((n1 -1 )* math.pow(s1,2)) + ((n2 - 1) * math.pow(s2,2)))/(n1+n2-2))\n",
        "  StandardError = SP_p * (math.sqrt((1/n1) + (1/n2)))\n",
        "  MarginOfError = alpha * StandardError\n",
        "  lowerCI = meandiff - MarginOfError \n",
        "  upperCI = meandiff + MarginOfError\n",
        "  zscore = meandiff / math.sqrt((math.pow(s1,2)/n1) + (math.pow(s2,2)/n2))\n",
        "  pvalue = st.norm.sf(abs(zscore))*2\n",
        "  \n",
        "  return  RS_p, SP_p, StandardError, MarginOfError, meandiff, lowerCI, upperCI, zscore, pvalue\n",
        "\n",
        "\n",
        "def TtestStatisticsSignificance(list1, list2, alpha):\n",
        "\n",
        "  n1 = list1.count()\n",
        "  n2 = list2.count()\n",
        "  x1 = list1.mean()\n",
        "  x2 = list2.mean()\n",
        "  s1 = list1.std()\n",
        "  s2 = list2.std()\n",
        "  df = n1+n2-2\n",
        "  meandiff = x1 - x2\n",
        "  H = (math.pow(s1,2)*(n1-1) + math.pow(s2,2)*(n2-1))/(1*n1 + 1*n2 - 2)\n",
        "  S = math.sqrt((H/n1) +  (H/n2))\n",
        "  t = meandiff/S\n",
        "  t2 =  (meandiff )/math.sqrt((math.pow(s1,2)/n1) + (math.pow(s2,2)/n2))\n",
        "  t3 = meandiff/ ((math.sqrt(H) *  math.sqrt((1/n1) + (1/n2))))\n",
        "  #j =   math.sqrt((math.pow(s1,2)/n1) + (math.pow(s2,2)/n2))\n",
        "  pvalue = st.t.sf(abs(t), df=df)*2\n",
        "  marginoferror = S * alpha\n",
        "  lowerCI = meandiff - marginoferror\n",
        "  upperCI = meandiff + marginoferror\n",
        "\n",
        "  \n",
        "  return   df, meandiff, S, t,pvalue,marginoferror, lowerCI,upperCI\n"
      ],
      "execution_count": 30,
      "outputs": []
    },
    {
      "cell_type": "markdown",
      "metadata": {
        "id": "LdH6VOEMLQwk"
      },
      "source": [
        "The data consists of two sheets, each for different group of the test. Download the sheets as CSVs and union them to form 1 dataset."
      ]
    },
    {
      "cell_type": "code",
      "metadata": {
        "colab": {
          "base_uri": "https://localhost:8080/"
        },
        "id": "AwcCUFMR79XW",
        "outputId": "9035d6b9-d760-469a-b735-54b61c7b7670"
      },
      "source": [
        "control = pd.read_excel(\"/content/Final Project Results.xlsx\", \"Control\")\n",
        "experiments = pd.read_excel(\"/content/Final Project Results.xlsx\", \"Experiment\")\n",
        "d = [control, experiments]\n",
        "dataset = pd.concat(d)\n",
        "dataset.shape"
      ],
      "execution_count": 31,
      "outputs": [
        {
          "output_type": "execute_result",
          "data": {
            "text/plain": [
              "(74, 5)"
            ]
          },
          "metadata": {
            "tags": []
          },
          "execution_count": 31
        }
      ]
    },
    {
      "cell_type": "markdown",
      "metadata": {
        "id": "MX7-WTY4LQwk"
      },
      "source": [
        "## Concepts to explore"
      ]
    },
    {
      "cell_type": "markdown",
      "metadata": {
        "id": "_Kr1OSgKLQwk"
      },
      "source": [
        "You will mostly focus on statistical hypothesis testing in this project on real-life data."
      ]
    },
    {
      "cell_type": "code",
      "metadata": {
        "id": "mksyIcHj1OmG"
      },
      "source": [
        "#click through rate\n",
        "controlsSize = control.shape[0]\n",
        "experimentsSize = experiments.shape[0]\n",
        "datasetSize = dataset.shape[0]"
      ],
      "execution_count": 32,
      "outputs": []
    },
    {
      "cell_type": "markdown",
      "metadata": {
        "id": "vySiGZ3GLQwk"
      },
      "source": [
        "## Requirements"
      ]
    },
    {
      "cell_type": "markdown",
      "metadata": {
        "id": "NWFvRrk9LQwk"
      },
      "source": [
        "* Visualize 95% confidence interval between control and experiment groups on [click-through rate](https://en.wikipedia.org/wiki/Click-through_rate) metric. Explain what the confidence interval means, what's the relationship with the population of a group.\n",
        "* Verify that the difference in each of the metrics between control and experiment groups is statistically significant using z-test, 95% confidence level.\n",
        "* Verify that the difference in each of the metrics between control and experiment groups is statistically significant using t-test, 95% confidence level.\n",
        "* Compare both test method results. Explain why they differ / do not differ that much and why.\n",
        "* Choose 1 method (either z or t) and explore statistical significance of any metric under different confidence levels - 60%, 90%, 95%, 99%. If conclusions about significance differ under different confidence levels, explain why.\n",
        "* Calculate p-values."
      ]
    },
    {
      "cell_type": "code",
      "metadata": {
        "id": "JEY8DwOlrUZy"
      },
      "source": [
        "control[\"CTR\"] = control['Clicks']/control['Pageviews']\n",
        "experiments[\"CTR\"] = experiments['Clicks']/experiments['Pageviews']\n",
        "dataset['CTR'] = dataset['Clicks']/dataset['Pageviews']"
      ],
      "execution_count": 33,
      "outputs": []
    },
    {
      "cell_type": "code",
      "metadata": {
        "colab": {
          "base_uri": "https://localhost:8080/",
          "height": 1000
        },
        "id": "DrQqIK9a3tCO",
        "outputId": "a775bc09-b679-48f4-b1c9-3b1b25da895e"
      },
      "source": [
        "pd.DataFrame(dataset['CTR']).hist(bins=58,                                \n",
        "                                  figsize=(9,9))\n",
        "\n",
        "pd.DataFrame(control['CTR']).hist(bins=58,                                \n",
        "                                  figsize=(9,9))\n",
        "\n",
        "print( st.skew(dataset['CTR']) );"
      ],
      "execution_count": 34,
      "outputs": [
        {
          "output_type": "stream",
          "text": [
            "-0.5609719736130521\n"
          ],
          "name": "stdout"
        },
        {
          "output_type": "display_data",
          "data": {
            "image/png": "[encoded data removed]",
            "text/plain": [
              "<Figure size 648x648 with 1 Axes>"
            ]
          },
          "metadata": {
            "tags": [],
            "needs_background": "light"
          }
        },
        {
          "output_type": "display_data",
          "data": {
            "image/png": "[encoded data removed]",
            "text/plain": [
              "<Figure size 648x648 with 1 Axes>"
            ]
          },
          "metadata": {
            "tags": [],
            "needs_background": "light"
          }
        }
      ]
    },
    {
      "cell_type": "markdown",
      "metadata": {
        "id": "RBfW7lY-b1dn"
      },
      "source": [
        "## Visualize 95% confidence interval between control and experiment groups on click-through rate metric. Explain what the confidence interval means, what's the relationship with the population of a group."
      ]
    },
    {
      "cell_type": "code",
      "metadata": {
        "colab": {
          "base_uri": "https://localhost:8080/"
        },
        "id": "Vg99cNDNsd0N",
        "outputId": "8d71c6bf-dbdd-4553-faf0-8f5a63d0ab4a"
      },
      "source": [
        "SS = StatisticsSignificance(control['CTR'], experiments['CTR'], 1.96)\n",
        "SS"
      ],
      "execution_count": 35,
      "outputs": [
        {
          "output_type": "execute_result",
          "data": {
            "text/plain": [
              "(1.0736926569117418,\n",
              " 0.0031728617084568447,\n",
              " 0.0007376753633375771,\n",
              " 0.001445843712141651,\n",
              " -6.124629702468354e-05,\n",
              " -0.0015070900091663346,\n",
              " 0.0013845974151169675,\n",
              " -0.08302608446563484,\n",
              " 0.9338307988101693)"
            ]
          },
          "metadata": {
            "tags": []
          },
          "execution_count": 35
        }
      ]
    },
    {
      "cell_type": "markdown",
      "metadata": {
        "id": "Eu6aJFBBcdV5"
      },
      "source": [
        "1. Ratio of sample variance = 1.0734 which means the equality of population variance is reasonable since result is between 0.5 and 2\n",
        "2. Pooled Estimate of Standard Deviation = 0.00317\n",
        "3. Standard Error = 0.0007\n",
        "4. Margin Of Error = 0.0014\n",
        "5. Mean difference = -6.1246e-05\n",
        "6. Lower CI = -0.0015\n",
        "7. Upper CI = 0.0014\n",
        "8. Zscore = -0.0830\n",
        "9. Pvalue = 0.9338\n",
        "\n",
        "With 95% confidence, the difference between controls and experiments is between -0.0015 and 0.0014. The result 0.9338 (93.38%) is NOT SIGNIFICANT at p < 0.05, the difference between the average of the CTR controls and CTR experiments populations is not big enough to be statistically significant"
      ]
    },
    {
      "cell_type": "code",
      "metadata": {
        "colab": {
          "base_uri": "https://localhost:8080/",
          "height": 283
        },
        "id": "LwwnwdH0caKy",
        "outputId": "cc3d4781-ca68-4af1-cb90-10bfe577a0af"
      },
      "source": [
        "plt.plot((SS[5],SS[6]),(1,1),'ro-',color='blue')\n",
        "plt.yticks(range(1),'Difference')"
      ],
      "execution_count": 36,
      "outputs": [
        {
          "output_type": "execute_result",
          "data": {
            "text/plain": [
              "([<matplotlib.axis.YTick at 0x7f210d48df10>], [Text(0, 0, 'D')])"
            ]
          },
          "metadata": {
            "tags": []
          },
          "execution_count": 36
        },
        {
          "output_type": "display_data",
          "data": {
            "image/png": "[encoded data removed]",
            "text/plain": [
              "<Figure size 432x288 with 1 Axes>"
            ]
          },
          "metadata": {
            "tags": [],
            "needs_background": "light"
          }
        }
      ]
    },
    {
      "cell_type": "markdown",
      "metadata": {
        "id": "P-3KpP2Ji6UF"
      },
      "source": [
        "Based on the interval shown above, we also conclude that there is no statistically significant difference in COntrols and Experiment CTR, because the 95% confidence interval includes the null value, zero. Since zero is included in the CI range, there is no sufficient evidence to conclude that there is a difference between Controls CTR and Experiment CTR"
      ]
    },
    {
      "cell_type": "markdown",
      "metadata": {
        "id": "H4b5aP58jv6j"
      },
      "source": [
        "## Verify that the difference in each of the metrics between control and experiment groups is statistically significant using z-test, 95% confidence level."
      ]
    },
    {
      "cell_type": "markdown",
      "metadata": {
        "id": "XbtbvSfYI2Ds"
      },
      "source": [
        "### Page view"
      ]
    },
    {
      "cell_type": "code",
      "metadata": {
        "colab": {
          "base_uri": "https://localhost:8080/",
          "height": 444
        },
        "id": "5V0u46cZmKXo",
        "outputId": "271753bd-574e-4b8d-f029-608635276855"
      },
      "source": [
        "fig, ax = plt.subplots(figsize=(12, 7))\n",
        "ax.spines['top'].set_visible(False)\n",
        "ax.spines['right'].set_visible(False)\n",
        "ax.spines['left'].set_visible(False)\n",
        "ax.yaxis.set_ticks_position('none')\n",
        "ax.grid(color='grey', axis='y', linestyle='-', linewidth=0.25, alpha=0.5)\n",
        "ax.set_title('Distribution of Pageviews')\n",
        "dataset = [control['Pageviews'], experiments['Pageviews']]\n",
        "labels = ['Control','Experiment']\n",
        "\n",
        "ax.boxplot(dataset, labels = labels)\n",
        "plt.show()"
      ],
      "execution_count": 37,
      "outputs": [
        {
          "output_type": "display_data",
          "data": {
            "image/png": "[encoded data removed]",
            "text/plain": [
              "<Figure size 864x504 with 1 Axes>"
            ]
          },
          "metadata": {
            "tags": [],
            "needs_background": "light"
          }
        }
      ]
    },
    {
      "cell_type": "code",
      "metadata": {
        "colab": {
          "base_uri": "https://localhost:8080/"
        },
        "id": "Tz8_YK8ptnVL",
        "outputId": "3993f60c-087a-4177-fc17-7f1270825e2d"
      },
      "source": [
        "SSp = StatisticsSignificance(control['Pageviews'], experiments['Pageviews'], 1.96)\n",
        "SSp"
      ],
      "execution_count": 38,
      "outputs": [
        {
          "output_type": "execute_result",
          "data": {
            "text/plain": [
              "(1.0929272113518451,\n",
              " 724.3337774611723,\n",
              " 168.4041825845047,\n",
              " 330.0721978656292,\n",
              " 23.864864864865012,\n",
              " -306.2073330007642,\n",
              " 353.93706273049423,\n",
              " 0.14171182982874964,\n",
              " 0.887307630398175)"
            ]
          },
          "metadata": {
            "tags": []
          },
          "execution_count": 38
        }
      ]
    },
    {
      "cell_type": "markdown",
      "metadata": {
        "id": "1cAgKONfZ2dH"
      },
      "source": [
        "1. Ratio of sample variance = 1.0929 which means the equality of population variance is reasonable since result is between 0.5 and 2\n",
        "2. Pooled Estimate of Standard Deviation = 724.33\n",
        "3. Standard Error = 168.40\n",
        "4. Margin Of Error = 330.07\n",
        "5. Mean difference = 23.8649\n",
        "6. Lower CI = -306.20\n",
        "7. Upper CI = 353.94\n",
        "8. Zscore = 0.1417\n",
        "9. Pvalue = 0.8873\n",
        "\n",
        "With 95% confidence, the difference between controls and experiments is between -306.20 and 353.94. The result 0.8873 is NOT SIGNIFICANT at p < 0.05,  the difference between the average of the Controls and Experiments pageviews populations is not big enough to be statistically significant."
      ]
    },
    {
      "cell_type": "markdown",
      "metadata": {
        "id": "aDdQu8CYvfrr"
      },
      "source": [
        "### Clicks"
      ]
    },
    {
      "cell_type": "code",
      "metadata": {
        "colab": {
          "base_uri": "https://localhost:8080/"
        },
        "id": "HG8CbTMqvaEE",
        "outputId": "fd71a247-bbca-4a96-e4e9-c02ad22febc3"
      },
      "source": [
        "SSc = StatisticsSignificance(control['Clicks'], experiments['Clicks'], 1.96)\n",
        "SSc"
      ],
      "execution_count": 39,
      "outputs": [
        {
          "output_type": "execute_result",
          "data": {
            "text/plain": [
              "(1.1181469858835251,\n",
              " 66.45844170964645,\n",
              " 15.451273846680305,\n",
              " 30.2844967394934,\n",
              " 1.4324324324325062,\n",
              " -28.852064307060893,\n",
              " 31.716929171925905,\n",
              " 0.0927064296863953,\n",
              " 0.9261367888616749)"
            ]
          },
          "metadata": {
            "tags": []
          },
          "execution_count": 39
        }
      ]
    },
    {
      "cell_type": "markdown",
      "metadata": {
        "id": "UzHu0Zaivv2c"
      },
      "source": [
        "1. Ratio of sample variance = 1.1181 which means the equality of population variance is reasonable since result is between 0.5 and 2\n",
        "2. Pooled Estimate of Standard Deviation = 66.4584\n",
        "3. Standard Error = 15.4513\n",
        "4. Margin Of Error = 30.2845\n",
        "5. Mean difference = 1.4324\n",
        "6. Lower CI = -28.8521\n",
        "7. Upper CI = 31.7169\n",
        "8. Zscore = 0.0927\n",
        "9. Pvalue = 0.9261\n",
        "\n",
        "With 95% confidence, the difference between controls and experiments is between -28.8521 and 31.7169.  The result 0.9261 is NOT SIGNIFICANT at p < 0.05, the difference between the average of the controls and experiment clicks populations is not big enough to be statistically significant."
      ]
    },
    {
      "cell_type": "markdown",
      "metadata": {
        "id": "LPR-gqO5tXK2"
      },
      "source": [
        "### Enrollment"
      ]
    },
    {
      "cell_type": "code",
      "metadata": {
        "colab": {
          "base_uri": "https://localhost:8080/"
        },
        "id": "2IDQG8ZItWDx",
        "outputId": "5f7e872b-f76e-41d4-dae6-bb3f74bb3157"
      },
      "source": [
        "SSe = StatisticsSignificance(control['Enrollments'], experiments['Enrollments'], 1.96)\n",
        "SSe"
      ],
      "execution_count": 40,
      "outputs": [
        {
          "output_type": "execute_result",
          "data": {
            "text/plain": [
              "(0.8135892242397348,\n",
              " 31.64754640846411,\n",
              " 9.332352299933675,\n",
              " 18.29141050787,\n",
              " 15.739130434782595,\n",
              " -2.552280073087406,\n",
              " 34.03054094265259,\n",
              " 1.6865126742905376,\n",
              " 0.09169709598021018)"
            ]
          },
          "metadata": {
            "tags": []
          },
          "execution_count": 40
        }
      ]
    },
    {
      "cell_type": "markdown",
      "metadata": {
        "id": "LynXHlgAyHWT"
      },
      "source": [
        "1. Ratio of sample variance = 0.8136 which means the equality of population variance is reasonable since result is between 0.5 and 2\n",
        "2. Pooled Estimate of Standard Deviation = 31.6475\n",
        "3. Standard Error = 9.3323\n",
        "4. Margin Of Error = 18.2914\n",
        "5. Mean difference = 115.73\n",
        "6. Lower CI = -2.5522\n",
        "7. Upper CI = 34.0305\n",
        "8. Zscore = 1.6865\n",
        "9. Pvalue = 0.0917\n",
        "\n",
        "With 95% confidence, the difference between controls and experiments is between -2.5522 and 34.0305.  The result 0.0917 is NOT SIGNIFICANT at p < 0.05,  the difference between the average of Controls and Experiments enrollment populations is not big enough to be statistically significant."
      ]
    },
    {
      "cell_type": "markdown",
      "metadata": {
        "id": "k7STXussykBy"
      },
      "source": [
        "### Payments"
      ]
    },
    {
      "cell_type": "code",
      "metadata": {
        "colab": {
          "base_uri": "https://localhost:8080/"
        },
        "id": "ij4_TbwdyjJd",
        "outputId": "eb6ecfde-a284-47f8-b47a-9f15e73170bb"
      },
      "source": [
        "SSpa = StatisticsSignificance(control['Payments'], experiments['Payments'], 1.96)\n",
        "SSpa"
      ],
      "execution_count": 41,
      "outputs": [
        {
          "output_type": "execute_result",
          "data": {
            "text/plain": [
              "(0.8018595870557278,\n",
              " 21.888732279200497,\n",
              " 6.454635009992322,\n",
              " 12.651084619584951,\n",
              " 3.826086956521749,\n",
              " -8.824997663063202,\n",
              " 16.4771715761067,\n",
              " 0.5927658110177635,\n",
              " 0.5533378912521878)"
            ]
          },
          "metadata": {
            "tags": []
          },
          "execution_count": 41
        }
      ]
    },
    {
      "cell_type": "markdown",
      "metadata": {
        "id": "AQUjnAGf0CYi"
      },
      "source": [
        "1. Ratio of sample variance = 0.8018 which means the equality of population variance is reasonable since result is between 0.5 and 2\n",
        "2. Pooled Estimate of Standard Deviation = 21.8887\n",
        "3. Standard Error = 6.4546\n",
        "4. Margin Of Error = 12.6510\n",
        "5. Mean difference = 3.8261\n",
        "6. Lower CI = -8.825\n",
        "7. Upper CI = 16.477\n",
        "8. Zscore = 0.5928\n",
        "9. Pvalue = 0.5533\n",
        "\n",
        "With 95% confidence, the difference between controls and experiments is between -8.825 and 16.477.  The result 0.5533 is NOT SIGNIFICANT at p < 0.05, the difference between the average of Controls and Experiments payments populations is not big enough to be statistically significant.\n",
        "\n"
      ]
    },
    {
      "cell_type": "markdown",
      "metadata": {
        "id": "zzw-QwH2e_dF"
      },
      "source": [
        "### Significance"
      ]
    },
    {
      "cell_type": "code",
      "metadata": {
        "colab": {
          "base_uri": "https://localhost:8080/",
          "height": 172
        },
        "id": "s0JYHyJnZ1lN",
        "outputId": "8e6a2cd2-e006-43d3-e16b-aa31e26eed12"
      },
      "source": [
        "data_dict = {}\n",
        "data_dict['category'] = ['pageview', 'Clicks', 'Enrollment', 'Payments']\n",
        "data_dict['pooledEstimate']= [SSp[1], SSc[1], SSe[1], SSpa[1]]\n",
        "data_dict['Standarderror'] = [SSp[2], SSc[2], SSe[2], SSpa[2]]\n",
        "data_dict['Marginoferror'] = [SSp[3], SSc[3], SSe[3], SSpa[3]]\n",
        "data_dict['lowerCI'] = [SSp[5], SSc[5], SSe[5], SSpa[5]]\n",
        "data_dict['upperCI'] = [SSp[6], SSc[6], SSe[6], SSpa[6]]\n",
        "data_dict['Zscore'] = [SSp[7], SSc[7], SSe[7], SSpa[7]]\n",
        "data_dict['PValue'] = [SSp[8], SSc[8], SSe[8], SSpa[8]]\n",
        "overallzscore = pd.DataFrame(data_dict)\n",
        "overallzscore"
      ],
      "execution_count": 42,
      "outputs": [
        {
          "output_type": "execute_result",
          "data": {
            "text/html": [
              "<div>\n",
              "<style scoped>\n",
              "    .dataframe tbody tr th:only-of-type {\n",
              "        vertical-align: middle;\n",
              "    }\n",
              "\n",
              "    .dataframe tbody tr th {\n",
              "        vertical-align: top;\n",
              "    }\n",
              "\n",
              "    .dataframe thead th {\n",
              "        text-align: right;\n",
              "    }\n",
              "</style>\n",
              "<table border=\"1\" class=\"dataframe\">\n",
              "  <thead>\n",
              "    <tr style=\"text-align: right;\">\n",
              "      <th></th>\n",
              "      <th>category</th>\n",
              "      <th>pooledEstimate</th>\n",
              "      <th>Standarderror</th>\n",
              "      <th>Marginoferror</th>\n",
              "      <th>lowerCI</th>\n",
              "      <th>upperCI</th>\n",
              "      <th>Zscore</th>\n",
              "      <th>PValue</th>\n",
              "    </tr>\n",
              "  </thead>\n",
              "  <tbody>\n",
              "    <tr>\n",
              "      <th>0</th>\n",
              "      <td>pageview</td>\n",
              "      <td>724.333777</td>\n",
              "      <td>168.404183</td>\n",
              "      <td>330.072198</td>\n",
              "      <td>-306.207333</td>\n",
              "      <td>353.937063</td>\n",
              "      <td>0.141712</td>\n",
              "      <td>0.887308</td>\n",
              "    </tr>\n",
              "    <tr>\n",
              "      <th>1</th>\n",
              "      <td>Clicks</td>\n",
              "      <td>66.458442</td>\n",
              "      <td>15.451274</td>\n",
              "      <td>30.284497</td>\n",
              "      <td>-28.852064</td>\n",
              "      <td>31.716929</td>\n",
              "      <td>0.092706</td>\n",
              "      <td>0.926137</td>\n",
              "    </tr>\n",
              "    <tr>\n",
              "      <th>2</th>\n",
              "      <td>Enrollment</td>\n",
              "      <td>31.647546</td>\n",
              "      <td>9.332352</td>\n",
              "      <td>18.291411</td>\n",
              "      <td>-2.552280</td>\n",
              "      <td>34.030541</td>\n",
              "      <td>1.686513</td>\n",
              "      <td>0.091697</td>\n",
              "    </tr>\n",
              "    <tr>\n",
              "      <th>3</th>\n",
              "      <td>Payments</td>\n",
              "      <td>21.888732</td>\n",
              "      <td>6.454635</td>\n",
              "      <td>12.651085</td>\n",
              "      <td>-8.824998</td>\n",
              "      <td>16.477172</td>\n",
              "      <td>0.592766</td>\n",
              "      <td>0.553338</td>\n",
              "    </tr>\n",
              "  </tbody>\n",
              "</table>\n",
              "</div>"
            ],
            "text/plain": [
              "     category  pooledEstimate  Standarderror  ...     upperCI    Zscore    PValue\n",
              "0    pageview      724.333777     168.404183  ...  353.937063  0.141712  0.887308\n",
              "1      Clicks       66.458442      15.451274  ...   31.716929  0.092706  0.926137\n",
              "2  Enrollment       31.647546       9.332352  ...   34.030541  1.686513  0.091697\n",
              "3    Payments       21.888732       6.454635  ...   16.477172  0.592766  0.553338\n",
              "\n",
              "[4 rows x 8 columns]"
            ]
          },
          "metadata": {
            "tags": []
          },
          "execution_count": 42
        }
      ]
    },
    {
      "cell_type": "markdown",
      "metadata": {
        "id": "-XVGKgKPwUQY"
      },
      "source": [
        "## Verify that the difference in each of the metrics between control and experiment groups is statistically significant using t-test, 95% confidence level\n",
        "\n",
        "\n",
        "Alpha value for t confidence level getten from: http://www.mysmu.edu/faculty/denisleung/t_table.pdf"
      ]
    },
    {
      "cell_type": "markdown",
      "metadata": {
        "id": "CJrOMO8LBjCA"
      },
      "source": [
        "### Page view"
      ]
    },
    {
      "cell_type": "code",
      "metadata": {
        "id": "81TedBUAChCj",
        "colab": {
          "base_uri": "https://localhost:8080/"
        },
        "outputId": "96ef7a0a-d6f3-45c5-f402-b28d3852dc8c"
      },
      "source": [
        "TSp = TtestStatisticsSignificance(control['Pageviews'], experiments['Pageviews'], 1.994)\n",
        "TSp"
      ],
      "execution_count": 43,
      "outputs": [
        {
          "output_type": "execute_result",
          "data": {
            "text/plain": [
              "(72,\n",
              " 23.864864864865012,\n",
              " 168.4041825845047,\n",
              " 0.14171182982874964,\n",
              " 0.8877034068650902,\n",
              " 335.7979400735024,\n",
              " -311.9330752086374,\n",
              " 359.6628049383674)"
            ]
          },
          "metadata": {
            "tags": []
          },
          "execution_count": 43
        }
      ]
    },
    {
      "cell_type": "markdown",
      "metadata": {
        "id": "6tPkJRQrT3p9"
      },
      "source": [
        "1. Degree of Freedom = 72\n",
        "2. mean difference = 23.8649\n",
        "3. Standard Error = 168.4042\n",
        "4. Tscore = 0.1417\n",
        "5. Pvalues =0.8870\n",
        "6. Margin of Error = 335.80\n",
        "7. LowerCI = -311.933\n",
        "8. UpperCI = 359.66\n",
        "\n",
        "\n",
        "difference between the average of the two populations is not big enough to be statistically significant."
      ]
    },
    {
      "cell_type": "markdown",
      "metadata": {
        "id": "j3eQ_vJjV91O"
      },
      "source": [
        "### Clicks"
      ]
    },
    {
      "cell_type": "code",
      "metadata": {
        "colab": {
          "base_uri": "https://localhost:8080/"
        },
        "id": "s2wqP3-lV7yG",
        "outputId": "58260116-3e28-44c6-d6c7-aef2e79c0a00"
      },
      "source": [
        "TSc = TtestStatisticsSignificance(control['Clicks'], experiments['Clicks'], 1.994)\n",
        "TSc"
      ],
      "execution_count": 44,
      "outputs": [
        {
          "output_type": "execute_result",
          "data": {
            "text/plain": [
              "(72,\n",
              " 1.4324324324325062,\n",
              " 15.451273846680303,\n",
              " 0.0927064296863953,\n",
              " 0.9263942642482703,\n",
              " 30.809840050280524,\n",
              " -29.377407617848018,\n",
              " 32.242272482713034)"
            ]
          },
          "metadata": {
            "tags": []
          },
          "execution_count": 44
        }
      ]
    },
    {
      "cell_type": "markdown",
      "metadata": {
        "id": "qYUee-iIZzoF"
      },
      "source": [
        "1. Degree of Freedom = 72\n",
        "2. mean difference = 1.4324\n",
        "3. Standard Error = 15.4513\n",
        "4. Tscore = 0.0927\n",
        "5. Pvalues = 0.9264\n",
        "6. Margin of Error = 30.8099\n",
        "7. LowerCI = -29.3774\n",
        "8. UpperCI = 32.2422\n",
        "\n",
        "difference between the average of the two populations is not big enough to be statistically significant."
      ]
    },
    {
      "cell_type": "markdown",
      "metadata": {
        "id": "rOIoqWXxacMo"
      },
      "source": [
        "### Enrollment"
      ]
    },
    {
      "cell_type": "code",
      "metadata": {
        "colab": {
          "base_uri": "https://localhost:8080/"
        },
        "id": "EiTQd5mIae8e",
        "outputId": "38db7491-5198-4cba-c618-ff91024ef47b"
      },
      "source": [
        "TSe = TtestStatisticsSignificance(control['Enrollments'], experiments['Enrollments'], 2.021)\n",
        "TSe"
      ],
      "execution_count": 45,
      "outputs": [
        {
          "output_type": "execute_result",
          "data": {
            "text/plain": [
              "(44,\n",
              " 15.739130434782595,\n",
              " 9.332352299933675,\n",
              " 1.686512674290538,\n",
              " 0.09877614030153456,\n",
              " 18.860683998165957,\n",
              " -3.1215535633833618,\n",
              " 34.59981443294855)"
            ]
          },
          "metadata": {
            "tags": []
          },
          "execution_count": 45
        }
      ]
    },
    {
      "cell_type": "markdown",
      "metadata": {
        "id": "cWym0Rf8a7Ja"
      },
      "source": [
        "1. Degree of Freedom = 44\n",
        "2. mean difference = 15.7391\n",
        "3. Standard Error = 9.3323\n",
        "4. Tscore = 1.6865\n",
        "5. Pvalues = 0.0988\n",
        "6. Margin of Error = 18.8607\n",
        "7. LowerCI = -3.1215\n",
        "8. UpperCI = 34.5998\n",
        "\n",
        "difference between the average of the two populations is not big enough to be statistically significant."
      ]
    },
    {
      "cell_type": "markdown",
      "metadata": {
        "id": "LLYt3Ss-bn2Y"
      },
      "source": [
        "### Payments"
      ]
    },
    {
      "cell_type": "code",
      "metadata": {
        "colab": {
          "base_uri": "https://localhost:8080/"
        },
        "id": "URbUB5mcbs0a",
        "outputId": "221e83d9-7cf8-4260-bf20-f12eeaa49663"
      },
      "source": [
        "TSpa = TtestStatisticsSignificance(control['Payments'], experiments['Payments'], 2.021)\n",
        "TSpa"
      ],
      "execution_count": 46,
      "outputs": [
        {
          "output_type": "execute_result",
          "data": {
            "text/plain": [
              "(44,\n",
              " 3.826086956521749,\n",
              " 6.454635009992322,\n",
              " 0.5927658110177635,\n",
              " 0.556372383554715,\n",
              " 13.044817355194482,\n",
              " -9.218730398672733,\n",
              " 16.87090431171623)"
            ]
          },
          "metadata": {
            "tags": []
          },
          "execution_count": 46
        }
      ]
    },
    {
      "cell_type": "markdown",
      "metadata": {
        "id": "UG9_khtQb1hD"
      },
      "source": [
        "1. Degree of Freedom = 44\n",
        "2. mean difference = 3.8261\n",
        "3. Standard Error = 6.433\n",
        "4. Tscore = 0.5928\n",
        "5. Pvalues = 0.5564\n",
        "6. Margin of Error = 13.0448\n",
        "7. LowerCI = -9.2187\n",
        "8. UpperCI = 16.8709\n",
        "\n",
        "difference between the average of the two populations is not big enough to be statistically significant."
      ]
    },
    {
      "cell_type": "markdown",
      "metadata": {
        "id": "Si2XsvBGcWg9"
      },
      "source": [
        "### Significance"
      ]
    },
    {
      "cell_type": "code",
      "metadata": {
        "colab": {
          "base_uri": "https://localhost:8080/",
          "height": 172
        },
        "id": "d2oz1a-OcZLA",
        "outputId": "318dcd3b-8e79-46fb-e979-0cd43bb85191"
      },
      "source": [
        "data_dictT = {}\n",
        "data_dictT['category'] = ['pageview', 'Clicks', 'Enrollment', 'Payments']\n",
        "data_dictT['Degree of Freedom']= [TSp[0], TSc[0], TSe[0], TSpa[0]]\n",
        "data_dictT['mean diff']= [TSp[1], TSc[1], TSe[1], TSpa[1]]\n",
        "data_dictT['Standard Error']= [TSp[2], TSc[2], TSe[2], TSpa[2]]\n",
        "data_dictT['Margin Of Error']= [TSp[5], TSc[5], TSe[5], TSpa[5]]\n",
        "data_dictT['LowerCI']= [TSp[6], TSc[6], TSe[6], TSpa[6]]\n",
        "data_dictT['UpperCI']= [TSp[7], TSc[7], TSe[7], TSpa[7]]\n",
        "data_dictT['TScore']= [TSp[3], TSc[3], TSe[3], TSpa[3]]\n",
        "data_dictT['Pvalues']= [TSp[4], TSc[4], TSe[4], TSpa[4]]\n",
        "\n",
        "overallscoreT = pd.DataFrame(data_dictT)\n",
        "overallscoreT"
      ],
      "execution_count": 47,
      "outputs": [
        {
          "output_type": "execute_result",
          "data": {
            "text/html": [
              "<div>\n",
              "<style scoped>\n",
              "    .dataframe tbody tr th:only-of-type {\n",
              "        vertical-align: middle;\n",
              "    }\n",
              "\n",
              "    .dataframe tbody tr th {\n",
              "        vertical-align: top;\n",
              "    }\n",
              "\n",
              "    .dataframe thead th {\n",
              "        text-align: right;\n",
              "    }\n",
              "</style>\n",
              "<table border=\"1\" class=\"dataframe\">\n",
              "  <thead>\n",
              "    <tr style=\"text-align: right;\">\n",
              "      <th></th>\n",
              "      <th>category</th>\n",
              "      <th>Degree of Freedom</th>\n",
              "      <th>mean diff</th>\n",
              "      <th>Standard Error</th>\n",
              "      <th>Margin Of Error</th>\n",
              "      <th>LowerCI</th>\n",
              "      <th>UpperCI</th>\n",
              "      <th>TScore</th>\n",
              "      <th>Pvalues</th>\n",
              "    </tr>\n",
              "  </thead>\n",
              "  <tbody>\n",
              "    <tr>\n",
              "      <th>0</th>\n",
              "      <td>pageview</td>\n",
              "      <td>72</td>\n",
              "      <td>23.864865</td>\n",
              "      <td>168.404183</td>\n",
              "      <td>335.797940</td>\n",
              "      <td>-311.933075</td>\n",
              "      <td>359.662805</td>\n",
              "      <td>0.141712</td>\n",
              "      <td>0.887703</td>\n",
              "    </tr>\n",
              "    <tr>\n",
              "      <th>1</th>\n",
              "      <td>Clicks</td>\n",
              "      <td>72</td>\n",
              "      <td>1.432432</td>\n",
              "      <td>15.451274</td>\n",
              "      <td>30.809840</td>\n",
              "      <td>-29.377408</td>\n",
              "      <td>32.242272</td>\n",
              "      <td>0.092706</td>\n",
              "      <td>0.926394</td>\n",
              "    </tr>\n",
              "    <tr>\n",
              "      <th>2</th>\n",
              "      <td>Enrollment</td>\n",
              "      <td>44</td>\n",
              "      <td>15.739130</td>\n",
              "      <td>9.332352</td>\n",
              "      <td>18.860684</td>\n",
              "      <td>-3.121554</td>\n",
              "      <td>34.599814</td>\n",
              "      <td>1.686513</td>\n",
              "      <td>0.098776</td>\n",
              "    </tr>\n",
              "    <tr>\n",
              "      <th>3</th>\n",
              "      <td>Payments</td>\n",
              "      <td>44</td>\n",
              "      <td>3.826087</td>\n",
              "      <td>6.454635</td>\n",
              "      <td>13.044817</td>\n",
              "      <td>-9.218730</td>\n",
              "      <td>16.870904</td>\n",
              "      <td>0.592766</td>\n",
              "      <td>0.556372</td>\n",
              "    </tr>\n",
              "  </tbody>\n",
              "</table>\n",
              "</div>"
            ],
            "text/plain": [
              "     category  Degree of Freedom  mean diff  ...     UpperCI    TScore   Pvalues\n",
              "0    pageview                 72  23.864865  ...  359.662805  0.141712  0.887703\n",
              "1      Clicks                 72   1.432432  ...   32.242272  0.092706  0.926394\n",
              "2  Enrollment                 44  15.739130  ...   34.599814  1.686513  0.098776\n",
              "3    Payments                 44   3.826087  ...   16.870904  0.592766  0.556372\n",
              "\n",
              "[4 rows x 9 columns]"
            ]
          },
          "metadata": {
            "tags": []
          },
          "execution_count": 47
        }
      ]
    },
    {
      "cell_type": "markdown",
      "metadata": {
        "id": "mx2pHKOJdir-"
      },
      "source": [
        "## Compare both test method results. Explain why they differ / do not differ that much and why."
      ]
    },
    {
      "cell_type": "code",
      "metadata": {
        "colab": {
          "base_uri": "https://localhost:8080/",
          "height": 172
        },
        "id": "AEyScZdQdoV4",
        "outputId": "a50b8984-6aa7-4124-c6ee-7b27942de9de"
      },
      "source": [
        "overallzscore"
      ],
      "execution_count": 48,
      "outputs": [
        {
          "output_type": "execute_result",
          "data": {
            "text/html": [
              "<div>\n",
              "<style scoped>\n",
              "    .dataframe tbody tr th:only-of-type {\n",
              "        vertical-align: middle;\n",
              "    }\n",
              "\n",
              "    .dataframe tbody tr th {\n",
              "        vertical-align: top;\n",
              "    }\n",
              "\n",
              "    .dataframe thead th {\n",
              "        text-align: right;\n",
              "    }\n",
              "</style>\n",
              "<table border=\"1\" class=\"dataframe\">\n",
              "  <thead>\n",
              "    <tr style=\"text-align: right;\">\n",
              "      <th></th>\n",
              "      <th>category</th>\n",
              "      <th>pooledEstimate</th>\n",
              "      <th>Standarderror</th>\n",
              "      <th>Marginoferror</th>\n",
              "      <th>lowerCI</th>\n",
              "      <th>upperCI</th>\n",
              "      <th>Zscore</th>\n",
              "      <th>PValue</th>\n",
              "    </tr>\n",
              "  </thead>\n",
              "  <tbody>\n",
              "    <tr>\n",
              "      <th>0</th>\n",
              "      <td>pageview</td>\n",
              "      <td>724.333777</td>\n",
              "      <td>168.404183</td>\n",
              "      <td>330.072198</td>\n",
              "      <td>-306.207333</td>\n",
              "      <td>353.937063</td>\n",
              "      <td>0.141712</td>\n",
              "      <td>0.887308</td>\n",
              "    </tr>\n",
              "    <tr>\n",
              "      <th>1</th>\n",
              "      <td>Clicks</td>\n",
              "      <td>66.458442</td>\n",
              "      <td>15.451274</td>\n",
              "      <td>30.284497</td>\n",
              "      <td>-28.852064</td>\n",
              "      <td>31.716929</td>\n",
              "      <td>0.092706</td>\n",
              "      <td>0.926137</td>\n",
              "    </tr>\n",
              "    <tr>\n",
              "      <th>2</th>\n",
              "      <td>Enrollment</td>\n",
              "      <td>31.647546</td>\n",
              "      <td>9.332352</td>\n",
              "      <td>18.291411</td>\n",
              "      <td>-2.552280</td>\n",
              "      <td>34.030541</td>\n",
              "      <td>1.686513</td>\n",
              "      <td>0.091697</td>\n",
              "    </tr>\n",
              "    <tr>\n",
              "      <th>3</th>\n",
              "      <td>Payments</td>\n",
              "      <td>21.888732</td>\n",
              "      <td>6.454635</td>\n",
              "      <td>12.651085</td>\n",
              "      <td>-8.824998</td>\n",
              "      <td>16.477172</td>\n",
              "      <td>0.592766</td>\n",
              "      <td>0.553338</td>\n",
              "    </tr>\n",
              "  </tbody>\n",
              "</table>\n",
              "</div>"
            ],
            "text/plain": [
              "     category  pooledEstimate  Standarderror  ...     upperCI    Zscore    PValue\n",
              "0    pageview      724.333777     168.404183  ...  353.937063  0.141712  0.887308\n",
              "1      Clicks       66.458442      15.451274  ...   31.716929  0.092706  0.926137\n",
              "2  Enrollment       31.647546       9.332352  ...   34.030541  1.686513  0.091697\n",
              "3    Payments       21.888732       6.454635  ...   16.477172  0.592766  0.553338\n",
              "\n",
              "[4 rows x 8 columns]"
            ]
          },
          "metadata": {
            "tags": []
          },
          "execution_count": 48
        }
      ]
    },
    {
      "cell_type": "code",
      "metadata": {
        "colab": {
          "base_uri": "https://localhost:8080/",
          "height": 172
        },
        "id": "EwAlp-S7dqVS",
        "outputId": "9727edb9-5c07-464a-91f3-923047ff090f"
      },
      "source": [
        "overallscoreT"
      ],
      "execution_count": 49,
      "outputs": [
        {
          "output_type": "execute_result",
          "data": {
            "text/html": [
              "<div>\n",
              "<style scoped>\n",
              "    .dataframe tbody tr th:only-of-type {\n",
              "        vertical-align: middle;\n",
              "    }\n",
              "\n",
              "    .dataframe tbody tr th {\n",
              "        vertical-align: top;\n",
              "    }\n",
              "\n",
              "    .dataframe thead th {\n",
              "        text-align: right;\n",
              "    }\n",
              "</style>\n",
              "<table border=\"1\" class=\"dataframe\">\n",
              "  <thead>\n",
              "    <tr style=\"text-align: right;\">\n",
              "      <th></th>\n",
              "      <th>category</th>\n",
              "      <th>Degree of Freedom</th>\n",
              "      <th>mean diff</th>\n",
              "      <th>Standard Error</th>\n",
              "      <th>Margin Of Error</th>\n",
              "      <th>LowerCI</th>\n",
              "      <th>UpperCI</th>\n",
              "      <th>TScore</th>\n",
              "      <th>Pvalues</th>\n",
              "    </tr>\n",
              "  </thead>\n",
              "  <tbody>\n",
              "    <tr>\n",
              "      <th>0</th>\n",
              "      <td>pageview</td>\n",
              "      <td>72</td>\n",
              "      <td>23.864865</td>\n",
              "      <td>168.404183</td>\n",
              "      <td>335.797940</td>\n",
              "      <td>-311.933075</td>\n",
              "      <td>359.662805</td>\n",
              "      <td>0.141712</td>\n",
              "      <td>0.887703</td>\n",
              "    </tr>\n",
              "    <tr>\n",
              "      <th>1</th>\n",
              "      <td>Clicks</td>\n",
              "      <td>72</td>\n",
              "      <td>1.432432</td>\n",
              "      <td>15.451274</td>\n",
              "      <td>30.809840</td>\n",
              "      <td>-29.377408</td>\n",
              "      <td>32.242272</td>\n",
              "      <td>0.092706</td>\n",
              "      <td>0.926394</td>\n",
              "    </tr>\n",
              "    <tr>\n",
              "      <th>2</th>\n",
              "      <td>Enrollment</td>\n",
              "      <td>44</td>\n",
              "      <td>15.739130</td>\n",
              "      <td>9.332352</td>\n",
              "      <td>18.860684</td>\n",
              "      <td>-3.121554</td>\n",
              "      <td>34.599814</td>\n",
              "      <td>1.686513</td>\n",
              "      <td>0.098776</td>\n",
              "    </tr>\n",
              "    <tr>\n",
              "      <th>3</th>\n",
              "      <td>Payments</td>\n",
              "      <td>44</td>\n",
              "      <td>3.826087</td>\n",
              "      <td>6.454635</td>\n",
              "      <td>13.044817</td>\n",
              "      <td>-9.218730</td>\n",
              "      <td>16.870904</td>\n",
              "      <td>0.592766</td>\n",
              "      <td>0.556372</td>\n",
              "    </tr>\n",
              "  </tbody>\n",
              "</table>\n",
              "</div>"
            ],
            "text/plain": [
              "     category  Degree of Freedom  mean diff  ...     UpperCI    TScore   Pvalues\n",
              "0    pageview                 72  23.864865  ...  359.662805  0.141712  0.887703\n",
              "1      Clicks                 72   1.432432  ...   32.242272  0.092706  0.926394\n",
              "2  Enrollment                 44  15.739130  ...   34.599814  1.686513  0.098776\n",
              "3    Payments                 44   3.826087  ...   16.870904  0.592766  0.556372\n",
              "\n",
              "[4 rows x 9 columns]"
            ]
          },
          "metadata": {
            "tags": []
          },
          "execution_count": 49
        }
      ]
    },
    {
      "cell_type": "markdown",
      "metadata": {
        "id": "Oy4axlDcnl_d"
      },
      "source": [
        "The Tscore and Zscore are same for Z and T test because\n",
        "- the population variance is unknown. When we use sample variance for population variance, we deal with t distribution.\n",
        "- Numerically, when n> 30, statistic t and statistic z are close, or t distribution is close to normal distribution, and more important, the influence of the degrees of freedom on the shape of distribution gradually becomes null. \n",
        "\n",
        "\n",
        "The Confidence Interval is different for T and Z score because of the Standard Table equivalent\n"
      ]
    },
    {
      "cell_type": "markdown",
      "metadata": {
        "id": "ZQRcCOxXrSSC"
      },
      "source": [
        "## Choose 1 method (either z or t) and explore statistical significance of any metric under different confidence levels - 60%, 90%, 95%, 99%. If conclusions about significance differ under different confidence levels, explain why."
      ]
    },
    {
      "cell_type": "code",
      "metadata": {
        "colab": {
          "base_uri": "https://localhost:8080/"
        },
        "id": "PjKArI0HrZsp",
        "outputId": "540a3553-22c8-4ef8-f231-0e862ce24f29"
      },
      "source": [
        "Sp95 = StatisticsSignificance(control['Payments'], experiments['Payments'], 1.960)\n",
        "Sp95"
      ],
      "execution_count": 50,
      "outputs": [
        {
          "output_type": "execute_result",
          "data": {
            "text/plain": [
              "(0.8018595870557278,\n",
              " 21.888732279200497,\n",
              " 6.454635009992322,\n",
              " 12.651084619584951,\n",
              " 3.826086956521749,\n",
              " -8.824997663063202,\n",
              " 16.4771715761067,\n",
              " 0.5927658110177635,\n",
              " 0.5533378912521878)"
            ]
          },
          "metadata": {
            "tags": []
          },
          "execution_count": 50
        }
      ]
    },
    {
      "cell_type": "code",
      "metadata": {
        "colab": {
          "base_uri": "https://localhost:8080/"
        },
        "id": "m81iavDthKE1",
        "outputId": "8d8c5c54-6286-4ec8-c96b-1ff78298d1aa"
      },
      "source": [
        "Sp99 = StatisticsSignificance(control['Payments'], experiments['Payments'], 2.576)\n",
        "Sp99"
      ],
      "execution_count": 51,
      "outputs": [
        {
          "output_type": "execute_result",
          "data": {
            "text/plain": [
              "(0.8018595870557278,\n",
              " 21.888732279200497,\n",
              " 6.454635009992322,\n",
              " 16.627139785740223,\n",
              " 3.826086956521749,\n",
              " -12.801052829218474,\n",
              " 20.453226742261972,\n",
              " 0.5927658110177635,\n",
              " 0.5533378912521878)"
            ]
          },
          "metadata": {
            "tags": []
          },
          "execution_count": 51
        }
      ]
    },
    {
      "cell_type": "code",
      "metadata": {
        "colab": {
          "base_uri": "https://localhost:8080/"
        },
        "id": "IhvaFjz7Rp8j",
        "outputId": "a0e46f56-85ff-4126-99b7-f39885550d1e"
      },
      "source": [
        "Sp90 =StatisticsSignificance(control['Payments'], experiments['Payments'], 1.645)\n",
        "Sp90"
      ],
      "execution_count": 52,
      "outputs": [
        {
          "output_type": "execute_result",
          "data": {
            "text/plain": [
              "(0.8018595870557278,\n",
              " 21.888732279200497,\n",
              " 6.454635009992322,\n",
              " 10.61787459143737,\n",
              " 3.826086956521749,\n",
              " -6.791787634915622,\n",
              " 14.44396154795912,\n",
              " 0.5927658110177635,\n",
              " 0.5533378912521878)"
            ]
          },
          "metadata": {
            "tags": []
          },
          "execution_count": 52
        }
      ]
    },
    {
      "cell_type": "code",
      "metadata": {
        "colab": {
          "base_uri": "https://localhost:8080/"
        },
        "id": "hL0Du1WqSQol",
        "outputId": "b6074d4f-9d66-47d2-c4bf-34bd302badcb"
      },
      "source": [
        "Sp60 = StatisticsSignificance(control['Payments'], experiments['Payments'], 0.841)\n",
        "Sp60"
      ],
      "execution_count": 53,
      "outputs": [
        {
          "output_type": "execute_result",
          "data": {
            "text/plain": [
              "(0.8018595870557278,\n",
              " 21.888732279200497,\n",
              " 6.454635009992322,\n",
              " 5.428348043403543,\n",
              " 3.826086956521749,\n",
              " -1.6022610868817937,\n",
              " 9.25443499992529,\n",
              " 0.5927658110177635,\n",
              " 0.5533378912521878)"
            ]
          },
          "metadata": {
            "tags": []
          },
          "execution_count": 53
        }
      ]
    },
    {
      "cell_type": "code",
      "metadata": {
        "colab": {
          "base_uri": "https://localhost:8080/",
          "height": 172
        },
        "id": "QsgdSSZ4TMrl",
        "outputId": "0992aa12-f853-450e-8a86-3c6e16ca72c8"
      },
      "source": [
        "pay_dict = {}\n",
        "pay_dict['category'] = ['60%', '90%', '95%', '99%']\n",
        "pay_dict['pooledEstimate']= [Sp60[1], Sp90[1], Sp95[1], Sp99[1]]\n",
        "pay_dict['Standarderror'] = [Sp60[2], Sp90[2], Sp95[2], Sp99[2]]\n",
        "pay_dict['Marginoferror'] = [Sp60[3], Sp90[3], Sp95[3], Sp99[3]]\n",
        "pay_dict['lowerCI'] = [Sp60[5], Sp90[5], Sp95[5], Sp99[5]]\n",
        "pay_dict['upperCI'] = [Sp60[6], Sp90[6], Sp95[6], Sp99[6]]\n",
        "pay_dict['Zscore'] = [Sp60[7], Sp90[7], Sp95[7], Sp99[7]]\n",
        "pay_dict['PValue'] = [Sp60[8], Sp90[8], Sp95[8], Sp99[8]]\n",
        "paymentCI = pd.DataFrame(pay_dict)\n",
        "paymentCI"
      ],
      "execution_count": 54,
      "outputs": [
        {
          "output_type": "execute_result",
          "data": {
            "text/html": [
              "<div>\n",
              "<style scoped>\n",
              "    .dataframe tbody tr th:only-of-type {\n",
              "        vertical-align: middle;\n",
              "    }\n",
              "\n",
              "    .dataframe tbody tr th {\n",
              "        vertical-align: top;\n",
              "    }\n",
              "\n",
              "    .dataframe thead th {\n",
              "        text-align: right;\n",
              "    }\n",
              "</style>\n",
              "<table border=\"1\" class=\"dataframe\">\n",
              "  <thead>\n",
              "    <tr style=\"text-align: right;\">\n",
              "      <th></th>\n",
              "      <th>category</th>\n",
              "      <th>pooledEstimate</th>\n",
              "      <th>Standarderror</th>\n",
              "      <th>Marginoferror</th>\n",
              "      <th>lowerCI</th>\n",
              "      <th>upperCI</th>\n",
              "      <th>Zscore</th>\n",
              "      <th>PValue</th>\n",
              "    </tr>\n",
              "  </thead>\n",
              "  <tbody>\n",
              "    <tr>\n",
              "      <th>0</th>\n",
              "      <td>60%</td>\n",
              "      <td>21.888732</td>\n",
              "      <td>6.454635</td>\n",
              "      <td>5.428348</td>\n",
              "      <td>-1.602261</td>\n",
              "      <td>9.254435</td>\n",
              "      <td>0.592766</td>\n",
              "      <td>0.553338</td>\n",
              "    </tr>\n",
              "    <tr>\n",
              "      <th>1</th>\n",
              "      <td>90%</td>\n",
              "      <td>21.888732</td>\n",
              "      <td>6.454635</td>\n",
              "      <td>10.617875</td>\n",
              "      <td>-6.791788</td>\n",
              "      <td>14.443962</td>\n",
              "      <td>0.592766</td>\n",
              "      <td>0.553338</td>\n",
              "    </tr>\n",
              "    <tr>\n",
              "      <th>2</th>\n",
              "      <td>95%</td>\n",
              "      <td>21.888732</td>\n",
              "      <td>6.454635</td>\n",
              "      <td>12.651085</td>\n",
              "      <td>-8.824998</td>\n",
              "      <td>16.477172</td>\n",
              "      <td>0.592766</td>\n",
              "      <td>0.553338</td>\n",
              "    </tr>\n",
              "    <tr>\n",
              "      <th>3</th>\n",
              "      <td>99%</td>\n",
              "      <td>21.888732</td>\n",
              "      <td>6.454635</td>\n",
              "      <td>16.627140</td>\n",
              "      <td>-12.801053</td>\n",
              "      <td>20.453227</td>\n",
              "      <td>0.592766</td>\n",
              "      <td>0.553338</td>\n",
              "    </tr>\n",
              "  </tbody>\n",
              "</table>\n",
              "</div>"
            ],
            "text/plain": [
              "  category  pooledEstimate  Standarderror  ...    upperCI    Zscore    PValue\n",
              "0      60%       21.888732       6.454635  ...   9.254435  0.592766  0.553338\n",
              "1      90%       21.888732       6.454635  ...  14.443962  0.592766  0.553338\n",
              "2      95%       21.888732       6.454635  ...  16.477172  0.592766  0.553338\n",
              "3      99%       21.888732       6.454635  ...  20.453227  0.592766  0.553338\n",
              "\n",
              "[4 rows x 8 columns]"
            ]
          },
          "metadata": {
            "tags": []
          },
          "execution_count": 54
        }
      ]
    },
    {
      "cell_type": "markdown",
      "metadata": {
        "id": "xFvLCFKH-ff4"
      },
      "source": [
        "Increasing the confidence, increases the margin of error which leads to a wider interval"
      ]
    },
    {
      "cell_type": "markdown",
      "metadata": {
        "id": "FoORcx4_LQwl"
      },
      "source": [
        "## Evaluation Criteria"
      ]
    },
    {
      "cell_type": "markdown",
      "metadata": {
        "id": "exeNRPPMLQwl"
      },
      "source": [
        "- Correctness of used test methods.\n",
        "- Soundness of explanations given.\n",
        "- Adherence to the requirements."
      ]
    },
    {
      "cell_type": "markdown",
      "metadata": {
        "id": "XQfYQSlCLQwl"
      },
      "source": [
        "\n",
        "## Sample correction questions\n",
        "\n",
        "During a correction, you may get asked questions that test your understanding of covered topics.\n",
        "\n",
        "- Why collect data from sample rather than data from a population?\n",
        "- What is the Central Limit Theorem and why is it important?\n",
        "- Explain confidence intervals and significance in statistics\n",
        "- Explain what p-value is"
      ]
    }
  ]
}