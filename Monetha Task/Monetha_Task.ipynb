{
  "nbformat": 4,
  "nbformat_minor": 0,
  "metadata": {
    "colab": {
      "name": "Monetha Task.ipynb",
      "provenance": [],
      "collapsed_sections": []
    },
    "kernelspec": {
      "name": "python3",
      "display_name": "Python 3"
    },
    "language_info": {
      "name": "python"
    }
  },
  "cells": [
    {
      "cell_type": "markdown",
      "metadata": {
        "id": "0DCsArbe6M3D"
      },
      "source": [
        "#Monetha Task - Python basic\n",
        "### Submitted by: Komolafe Oyindolapo"
      ]
    },
    {
      "cell_type": "code",
      "metadata": {
        "id": "49KMnzdX5gFm"
      },
      "source": [
        "data = [['A1', 28], ['A2', 32], ['A3', 1], ['A4', 0],\n",
        "['A5', 10], ['A6', 22], ['A7', 30], ['A8', 19],\n",
        "['B1', 145], ['B2', 27], ['B3', 36], ['B4', 25],\n",
        "['B5', 9], ['B6', 38], ['B7', 21], ['B8', 12],\n",
        "['C1', 122], ['C2', 87], ['C3', 36], ['C4', 3],\n",
        "['D1', 0], ['D2', 5], ['D3', 55], ['D4', 62],\n",
        "['D5', 98], ['D6', 32]]"
      ],
      "execution_count": 1,
      "outputs": []
    },
    {
      "cell_type": "markdown",
      "metadata": {
        "id": "t7k1NIAX6Wnr"
      },
      "source": [
        "#### How many sites are there?"
      ]
    },
    {
      "cell_type": "code",
      "metadata": {
        "colab": {
          "base_uri": "https://localhost:8080/"
        },
        "id": "Matpz8f66a67",
        "outputId": "3d9b2fa0-99a1-4bd4-dc41-afd0a94f674f"
      },
      "source": [
        "print(len(data))\n",
        "print(f\"There are {len(data)} number of sites in the list\")"
      ],
      "execution_count": 3,
      "outputs": [
        {
          "output_type": "stream",
          "text": [
            "26\n",
            "There are 26 number of sites in the list\n"
          ],
          "name": "stdout"
        }
      ]
    },
    {
      "cell_type": "markdown",
      "metadata": {
        "id": "y7fXHZQz6lqg"
      },
      "source": [
        "#### How many birds were counted at the 7th site?"
      ]
    },
    {
      "cell_type": "code",
      "metadata": {
        "colab": {
          "base_uri": "https://localhost:8080/"
        },
        "id": "LvuOvfAZ6rc6",
        "outputId": "e7b0eadf-730f-4dc4-e73a-89f70fbbf027"
      },
      "source": [
        "print(data[6][1])\n",
        "print(f\"The number of birds counted at the 7th site {data[6][0]} is  {data[6][1]}\")"
      ],
      "execution_count": 5,
      "outputs": [
        {
          "output_type": "stream",
          "text": [
            "30\n",
            "The number of birds counted at the 7th site A7 is  30\n"
          ],
          "name": "stdout"
        }
      ]
    },
    {
      "cell_type": "markdown",
      "metadata": {
        "id": "fygbY8eX69qR"
      },
      "source": [
        "#### How many birds were counted at the last site?"
      ]
    },
    {
      "cell_type": "code",
      "metadata": {
        "colab": {
          "base_uri": "https://localhost:8080/"
        },
        "id": "ZQcxFvCr7B77",
        "outputId": "028f0871-de6a-479c-88da-9b8cc70b5fdc"
      },
      "source": [
        "print(data[-1][1])\n",
        "print(f\"There are birds {data[-1][1]} birds counted at the last site {data[-1][0]}\")"
      ],
      "execution_count": 6,
      "outputs": [
        {
          "output_type": "stream",
          "text": [
            "32\n",
            "There are birds 32 birds counted at the last site D6\n"
          ],
          "name": "stdout"
        }
      ]
    },
    {
      "cell_type": "markdown",
      "metadata": {
        "id": "myofdrlg7aaz"
      },
      "source": [
        "#### What is the total number of birds counted across all sites?"
      ]
    },
    {
      "cell_type": "code",
      "metadata": {
        "colab": {
          "base_uri": "https://localhost:8080/"
        },
        "id": "2HFmwHGl7eVP",
        "outputId": "6d26a2c6-02ae-4153-d9d8-3d894e6eebda"
      },
      "source": [
        "total = 0\n",
        "for i in range(len(data)):\n",
        "    total += data[i][1]\n",
        "\n",
        "print(total)\n",
        "\n",
        "print(f\"The total number of birds counted across all sites is {total}\")"
      ],
      "execution_count": 7,
      "outputs": [
        {
          "output_type": "stream",
          "text": [
            "955\n",
            "The total number of birds counted across all sites is 955\n"
          ],
          "name": "stdout"
        }
      ]
    },
    {
      "cell_type": "markdown",
      "metadata": {
        "id": "bOBNQ2V47pRK"
      },
      "source": [
        "#### What is the average number of birds seen on a site?"
      ]
    },
    {
      "cell_type": "code",
      "metadata": {
        "colab": {
          "base_uri": "https://localhost:8080/"
        },
        "id": "EM-LfLXe74ue",
        "outputId": "dd9c7389-4356-40c1-ce03-1bf672e7ee65"
      },
      "source": [
        "print(total/len(data))\n",
        "\n",
        "print(f\"The average number of birds is {total/len(data) :.0f}\")"
      ],
      "execution_count": 8,
      "outputs": [
        {
          "output_type": "stream",
          "text": [
            "36.73076923076923\n",
            "The average number of birds is 37\n"
          ],
          "name": "stdout"
        }
      ]
    },
    {
      "cell_type": "markdown",
      "metadata": {
        "id": "wBTOYkkY8Dou"
      },
      "source": [
        "#### What is the total number of birds counted on sites with codes beginning with C? (don’t just identify this sites by eye, in the real world there could be hundreds or thousands of sites)"
      ]
    },
    {
      "cell_type": "code",
      "metadata": {
        "colab": {
          "base_uri": "https://localhost:8080/"
        },
        "id": "yGzKtacd8JLu",
        "outputId": "69577a41-d917-4e84-f4c4-117d6ac61ecb"
      },
      "source": [
        "hasC = []\n",
        "totalC = 0\n",
        "for i in range(len(data)):\n",
        "    if data[i][0].startswith('C'):\n",
        "        hasC.append(data[i][0])\n",
        "        totalC += data[i][1]\n",
        "\n",
        "print(totalC)\n",
        "print(f\"The sites which begin with C are: {hasC}, with a total number of {totalC} birds \")"
      ],
      "execution_count": 9,
      "outputs": [
        {
          "output_type": "stream",
          "text": [
            "248\n",
            "The sites which begin with C are: ['C1', 'C2', 'C3', 'C4'], with a total number of 248 birds \n"
          ],
          "name": "stdout"
        }
      ]
    },
    {
      "cell_type": "markdown",
      "metadata": {
        "id": "samYPQ0j8SuJ"
      },
      "source": [
        "# Monetha task - Intermediate"
      ]
    },
    {
      "cell_type": "code",
      "metadata": {
        "id": "BrK5BFxp_iaE"
      },
      "source": [
        "def Switch_Symbol(symbol):\n",
        "    \"\"\"\n",
        "     A function that returns the numeric value of the passed symbol.\n",
        "     Zero is returned for unidentified symbol\n",
        "    \"\"\"\n",
        "    Switch = {\n",
        "        \"#\":5,\n",
        "        \"O\":3,\n",
        "        \"X\":1,\n",
        "        \"!\":-1,\n",
        "        \"!!\":-3,\n",
        "        \"!!!\":-5\n",
        "        }\n",
        "    return Switch.get(symbol,0)"
      ],
      "execution_count": 10,
      "outputs": []
    },
    {
      "cell_type": "code",
      "metadata": {
        "id": "5gkstSZ8_oqG"
      },
      "source": [
        "def check_score(thelist):\n",
        "    \"\"\"\n",
        "        A function that accepts a list and returns the total of the symbols in the list\n",
        "    \"\"\"\n",
        "    totalscore = 0\n",
        "    #Check whether the parameter is a list\n",
        "    if type(thelist) == list:\n",
        "        for i in range(len(thelist)):\n",
        "            for j in range(len(thelist[i])):\n",
        "                totalscore +=  Switch_Symbol(thelist[i][j])\n",
        "        \n",
        "    else:\n",
        "        totalscore = \"error\"\n",
        "\n",
        "    if totalscore < 0:\n",
        "        return 0\n",
        "    else:\n",
        "        return totalscore"
      ],
      "execution_count": 11,
      "outputs": []
    },
    {
      "cell_type": "code",
      "metadata": {
        "colab": {
          "base_uri": "https://localhost:8080/"
        },
        "id": "fj9BkWy__tpO",
        "outputId": "bb8a580e-30d1-4e35-af83-52eb3326a56f"
      },
      "source": [
        "check_score([\n",
        "  [\"#\", \"O\", \"#\", \"!!\", \"X\", \"!!\", \"#\", \"O\", \"O\", \"!!\", \"#\", \"X\", \"#\", \"O\"],\n",
        "  [\"!!!\", \"!!!\", \"!!\", \"!!\", \"!\", \"!\", \"X\", \"!\", \"!!!\", \"O\", \"!\", \"!!!\", \"X\", \"#\"],\n",
        "  [\"#\", \"X\", \"#\", \"!!!\", \"!\", \"!!\", \"#\", \"#\", \"!!\", \"X\", \"!!\", \"!!!\", \"X\", \"O\"],\n",
        "  [\"!!\", \"X\", \"!!\", \"!!\", \"!!!\", \"#\", \"O\", \"O\", \"!!!\", \"#\", \"O\", \"O\", \"#\", \"!!\"],\n",
        "  [\"O\", \"X\", \"#\", \"!\", \"!\", \"X\", \"!!!\", \"O\", \"!!!\", \"!!\", \"O\", \"!\", \"O\", \"X\"],\n",
        "  [\"!!\", \"!!!\", \"X\", \"!!!\", \"!!\", \"!!\", \"!!!\", \"X\", \"O\", \"!\", \"#\", \"!!\", \"!!\", \"!!!\"],\n",
        "  [\"!!\", \"!!\", \"#\", \"O\", \"!\", \"!!\", \"!\", \"!!!\", \"#\", \"O\", \"#\", \"!\", \"#\", \"!!\"],\n",
        "  [\"X\", \"X\", \"O\", \"X\", \"!!!\", \"#\", \"!!!\", \"!!!\", \"X\", \"X\", \"X\", \"!\", \"#\", \"!!\"],\n",
        "  [\"O\", \"!!!\", \"!\", \"O\", \"#\", \"!\", \"!\", \"#\", \"X\", \"X\", \"#\", \"O\", \"!!\", \"!\"],\n",
        "  [\"X\", \"!\", \"!!\", \"#\", \"#\", \"X\", \"!!\", \"O\", \"!!\", \"X\", \"X\", \"!!\", \"#\", \"X\"],\n",
        "  [\"!\", \"!!\", \"!!\", \"O\", \"!!\", \"!!\", \"#\", \"#\", \"!\", \"!!!\", \"O\", \"!\", \"#\", \"#\"],\n",
        "  [\"!\", \"!!!\", \"!!\", \"X\", \"!!\", \"!!\", \"#\", \"!!!\", \"O\", \"!!\", \"!!!\", \"!\", \"!\", \"!\"],\n",
        "  [\"!!!\", \"!!!\", \"!!\", \"O\", \"!\", \"!\", \"!!!\", \"!!!\", \"!!\", \"!!\", \"X\", \"!\", \"#\", \"#\"],\n",
        "  [\"O\", \"O\", \"#\", \"O\", \"#\", \"!\", \"!!!\", \"X\", \"X\", \"O\", \"!\", \"!!!\", \"X\", \"O\"]\n",
        "])"
      ],
      "execution_count": 13,
      "outputs": [
        {
          "output_type": "execute_result",
          "data": {
            "text/plain": [
              "12"
            ]
          },
          "metadata": {
            "tags": []
          },
          "execution_count": 13
        }
      ]
    }
  ]
}